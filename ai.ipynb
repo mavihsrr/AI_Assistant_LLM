{
 "cells": [
  {
   "cell_type": "code",
   "execution_count": null,
   "id": "6ddcff6b-6db8-4322-ac68-e6f28ab6dd3b",
   "metadata": {},
   "outputs": [],
   "source": []
  },
  {
   "cell_type": "code",
   "execution_count": null,
   "id": "6339edeb-3d57-4e63-bae6-6a4981962e6f",
   "metadata": {},
   "outputs": [
    {
     "name": "stdout",
     "output_type": "stream",
     "text": [
      "Loading dataset\n",
      "\n",
      "Generating embeddings and storing in AstraDB\n",
      "Inserted 50 headlines.\n",
      "\n"
     ]
    }
   ],
   "source": [
    "\n",
    "\n",
    "from langchain.vectorstores.cassandra import Cassandra\n",
    "from langchain.indexes.vectorstore import VectorStoreIndexWrapper\n",
    "from langchain.llms import OpenAI\n",
    "from langchain.embeddings import OpenAIEmbeddings\n",
    "\n",
    "from cassandra.cluster import Cluster\n",
    "from cassandra.auth import PlainTextAuthProvider\n",
    "\n",
    "from datasets import load_dataset\n",
    "import pandas as pd\n",
    "import sys\n",
    "import config\n",
    "\n",
    "\n",
    "cloud_config={\n",
    "    'secure_connect_bundle':config.ASTRA_DB_SECURE_BUNDLE_PATH\n",
    "}\n",
    "auth_provider = PlainTextAuthProvider(config.ASTRA_DB_CLIENT_ID,config.ASTRA_DB_CLIENT_SECRET)\n",
    "cluster=Cluster(cloud=cloud_config,auth_provider=auth_provider)\n",
    "astraSession = cluster.connect()\n",
    "\n",
    "llm=OpenAI(openai_api_key=config.OPENAI_API_KEY)\n",
    "myEmbedding=OpenAIEmbeddings(openai_api_key=config.OPENAI_API_KEY)\n",
    "\n",
    "myCassandraVStore=Cassandra(\n",
    "    embedding= myEmbedding,\n",
    "    session = astraSession,\n",
    "    keyspace=config.ASTRA_DB_KEYSPACE,\n",
    "    table_name='test_',\n",
    ")\n",
    "\n",
    "print(\"Loading dataset\")\n",
    "myDataset = pd.read_csv(\"nutrients_csvfile.csv\")\n",
    "headlines = myDataset[:50]\n",
    "\n",
    "print(\"\\nGenerating embeddings and storing in AstraDB\")\n",
    "myCassandraVStore.add_texts(headlines)\n",
    "\n",
    "print(\"Inserted %i headlines.\\n\" % len(headlines))\n",
    "\n",
    "vectorIndex= VectorStoreIndexWrapper(vectorstore=myCassandraVStore)\n",
    "\n"
   ]
  },
  {
   "cell_type": "code",
   "execution_count": null,
   "id": "674adb9d-4aca-4982-b02f-6786f6f7dc89",
   "metadata": {},
   "outputs": [
    {
     "name": "stdout",
     "output_type": "stream",
     "text": [
      "\n",
      "Enter your question or type 'q' to exit :  hi\n"
     ]
    },
    {
     "name": "stdout",
     "output_type": "stream",
     "text": [
      "Question: \"hi\"\n",
      "Answer: Hi there!\"\n"
     ]
    },
    {
     "name": "stdout",
     "output_type": "stream",
     "text": [
      "\n",
      "What's your next question :  how r u\n"
     ]
    },
    {
     "name": "stdout",
     "output_type": "stream",
     "text": [
      "Question: \"how r u\"\n",
      "Answer: I'm doing well. How are you?\"\n"
     ]
    },
    {
     "name": "stdout",
     "output_type": "stream",
     "text": [
      "\n",
      "What's your next question :  suggest healthy food\n"
     ]
    },
    {
     "name": "stdout",
     "output_type": "stream",
     "text": [
      "Question: \"suggest healthy food\"\n",
      "Answer: Eating fruits and vegetables, lean proteins, and whole grains are all great ways to eat healthy.\"\n"
     ]
    },
    {
     "name": "stdout",
     "output_type": "stream",
     "text": [
      "\n",
      "What's your next question :  how many calories in milk\n"
     ]
    },
    {
     "name": "stdout",
     "output_type": "stream",
     "text": [
      "Question: \"how many calories in milk\"\n",
      "Answer: I don't know\"\n"
     ]
    },
    {
     "name": "stdout",
     "output_type": "stream",
     "text": [
      "\n",
      "What's your next question :  i am on a keto diet\n"
     ]
    },
    {
     "name": "stdout",
     "output_type": "stream",
     "text": [
      "Question: \"i am on a keto diet\"\n",
      "Answer: You may want to pay extra attention to your fat intake on a keto diet, as it is an important source of energy.\"\n"
     ]
    },
    {
     "name": "stdout",
     "output_type": "stream",
     "text": [
      "\n",
      "What's your next question :  suggest food for keto diet\n"
     ]
    },
    {
     "name": "stdout",
     "output_type": "stream",
     "text": [
      "Question: \"suggest food for keto diet\"\n",
      "Answer: Some keto-friendly foods include meat, fish, eggs, cheese, avocado, and non-starchy vegetables like spinach and kale.\"\n"
     ]
    },
    {
     "name": "stdout",
     "output_type": "stream",
     "text": [
      "\n",
      "What's your next question :  nutrional value\n"
     ]
    },
    {
     "name": "stdout",
     "output_type": "stream",
     "text": [
      "Question: \"nutrional value\"\n",
      "Answer: Calories are a measure of the amount of energy a food provides. They are also a measure of the nutritional value of a food, since the higher the calorie count, the more nutrients the food contains.\"\n"
     ]
    },
    {
     "name": "stdout",
     "output_type": "stream",
     "text": [
      "\n",
      "What's your next question :  nutrional value\n"
     ]
    },
    {
     "name": "stdout",
     "output_type": "stream",
     "text": [
      "Question: \"nutrional value\"\n",
      "Answer: Calories measure the amount of energy that a food provides. However, they do not provide information on the other nutrients a food contains, such as vitamins, minerals, or other macronutrients like fat, protein, and carbohydrates.\"\n"
     ]
    }
   ],
   "source": [
    "first_question=True\n",
    "while True:\n",
    "    if first_question:\n",
    "        query_text= input(\"\\nEnter your question or type 'q' to exit : \")\n",
    "        first_question=False\n",
    "    else:\n",
    "        query_text=input(\"\\nWhat's your next question : \")\n",
    "    if query_text.lower()==\"q\":\n",
    "        break\n",
    "    \n",
    "    print(\"Question: \\\"%s\\\"\" %query_text)\n",
    "    answer= vectorIndex.query(query_text,llm=llm).strip()\n",
    "    print(\"Answer: \\%s\\\"\\n\" % answer)\n",
    "\n"
   ]
  },
  {
   "cell_type": "code",
   "execution_count": null,
   "id": "6b14085c-d799-4fdd-b604-4fd5bb4a359d",
   "metadata": {},
   "outputs": [],
   "source": []
  }
 ],
 "metadata": {
  "kernelspec": {
   "display_name": "Python 3 (ipykernel)",
   "language": "python",
   "name": "python3"
  },
  "language_info": {
   "codemirror_mode": {
    "name": "ipython",
    "version": 3
   },
   "file_extension": ".py",
   "mimetype": "text/x-python",
   "name": "python",
   "nbconvert_exporter": "python",
   "pygments_lexer": "ipython3",
   "version": "3.11.6"
  }
 },
 "nbformat": 4,
 "nbformat_minor": 5
}
